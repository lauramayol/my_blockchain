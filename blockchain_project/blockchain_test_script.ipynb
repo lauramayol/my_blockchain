{
 "cells": [
  {
   "cell_type": "code",
   "execution_count": 1,
   "metadata": {},
   "outputs": [
    {
     "name": "stdout",
     "output_type": "stream",
     "text": [
      "The solution is y = 21\n"
     ]
    }
   ],
   "source": [
    "from hashlib import sha256\n",
    "x = 5\n",
    "y = 0  # We don't know what y should be yet...\n",
    "while sha256(f'{x*y}'.encode()).hexdigest()[-1] != \"0\":\n",
    "    y += 1\n",
    "print(f'The solution is y = {y}')"
   ]
  },
  {
   "cell_type": "code",
   "execution_count": 1,
   "metadata": {},
   "outputs": [],
   "source": [
    "\n",
    "#Note: before launching Jupyter lab, need to export: export DJANGO_SETTINGS_MODULE=blockchain_project.settings\n",
    "import django\n",
    "django.setup()"
   ]
  },
  {
   "cell_type": "code",
   "execution_count": 2,
   "metadata": {},
   "outputs": [],
   "source": [
    "from blockchain_app.models import Block, Transaction, Node"
   ]
  },
  {
   "cell_type": "code",
   "execution_count": 12,
   "metadata": {},
   "outputs": [
    {
     "data": {
      "text/plain": [
       "['localhost:5001', 'localhost:5000']"
      ]
     },
     "execution_count": 12,
     "metadata": {},
     "output_type": "execute_result"
    }
   ],
   "source": [
    "list(Node.objects.values_list('address', flat=True))"
   ]
  },
  {
   "cell_type": "code",
   "execution_count": 3,
   "metadata": {},
   "outputs": [
    {
     "data": {
      "text/plain": [
       "[{'id': 1, 'proof': 100, 'previous_hash': '1', 'timestamp': 1548884810.844964},\n",
       " {'id': 2,\n",
       "  'proof': 71209,\n",
       "  'previous_hash': '1d45cf7124b8eaf4f996dd76768e1491d576646d861232486766c63d831792e7',\n",
       "  'timestamp': 1548885796.076521},\n",
       " {'id': 3,\n",
       "  'proof': 33551,\n",
       "  'previous_hash': 'ab72690a82c0264a6aa3d2567bd0e60ef9ec2095c9b2e0dd4620734eacf72c52',\n",
       "  'timestamp': 1548887620.055434},\n",
       " {'id': 4,\n",
       "  'proof': 19205,\n",
       "  'previous_hash': '134d1a98a3af7b3f65689f588e010051ce9ad04feabf181765b69ce1e471095a',\n",
       "  'timestamp': 1548887620.055434},\n",
       " {'id': 5,\n",
       "  'proof': 173497,\n",
       "  'previous_hash': '0e0f498199eaa56bbe86826f036a98dba5ce10627ead4ca4d48d78923617cac4',\n",
       "  'timestamp': 1548887620.055434},\n",
       " {'id': 6,\n",
       "  'proof': 56796,\n",
       "  'previous_hash': 'c1924dc1e19e60e1ed8083024f0dd85c8618c3de3a0ed2760df3a82d0db6bc5a',\n",
       "  'timestamp': 1548887620.055434}]"
      ]
     },
     "execution_count": 3,
     "metadata": {},
     "output_type": "execute_result"
    }
   ],
   "source": [
    "list(Block.objects.all().values().order_by('id'))"
   ]
  },
  {
   "cell_type": "code",
   "execution_count": 5,
   "metadata": {},
   "outputs": [
    {
     "data": {
      "text/plain": [
       "[{'id': 1,\n",
       "  'block_id': 2,\n",
       "  'sender': '0',\n",
       "  'recipient': '0ca8e7c269d94acfb07086fe0f38e418',\n",
       "  'amount': Decimal('1.0000000000'),\n",
       "  'timestamp': 1548885796.077468},\n",
       " {'id': 2,\n",
       "  'block_id': 3,\n",
       "  'sender': '0ca8e7c269d94acfb07086fe0f38e418',\n",
       "  'recipient': 'some-other-address',\n",
       "  'amount': Decimal('1.0000000000'),\n",
       "  'timestamp': 1548887583.567165},\n",
       " {'id': 3,\n",
       "  'block_id': 3,\n",
       "  'sender': '0',\n",
       "  'recipient': '02a12f71373746fb9e3c269e1b2d33b3',\n",
       "  'amount': Decimal('1.0000000000'),\n",
       "  'timestamp': 1548887620.056324},\n",
       " {'id': 4,\n",
       "  'block_id': 4,\n",
       "  'sender': '0',\n",
       "  'recipient': '6b271e15ab5e46a0a9a393f84c00ef65',\n",
       "  'amount': Decimal('1.0000000000'),\n",
       "  'timestamp': 1548887620.056324},\n",
       " {'id': 5,\n",
       "  'block_id': 5,\n",
       "  'sender': '0',\n",
       "  'recipient': 'e103cf10a4c84e6f849ec2b88062f819',\n",
       "  'amount': Decimal('1.0000000000'),\n",
       "  'timestamp': 1548887620.056324},\n",
       " {'id': 6,\n",
       "  'block_id': 6,\n",
       "  'sender': 'e103cf10a4c84e6f849ec2b88062f819',\n",
       "  'recipient': '0ca8e7c269d94acfb07086fe0f38e418',\n",
       "  'amount': Decimal('2.0000000000'),\n",
       "  'timestamp': 1548887620.056324},\n",
       " {'id': 7,\n",
       "  'block_id': 6,\n",
       "  'sender': '0',\n",
       "  'recipient': '46e643fa2914498d9fdf3086d08e3ca3',\n",
       "  'amount': Decimal('1.0000000000'),\n",
       "  'timestamp': 1548887620.056324}]"
      ]
     },
     "execution_count": 5,
     "metadata": {},
     "output_type": "execute_result"
    }
   ],
   "source": [
    "list(Transaction.objects.filter(block__isnull=False).select_related('block').values())"
   ]
  },
  {
   "cell_type": "code",
   "execution_count": 7,
   "metadata": {},
   "outputs": [
    {
     "data": {
      "text/plain": [
       "[{'id': 1, 'proof': 100, 'previous_hash': '1', 'timestamp': 1548884810.844964},\n",
       " {'id': 2,\n",
       "  'proof': 71209,\n",
       "  'previous_hash': '1d45cf7124b8eaf4f996dd76768e1491d576646d861232486766c63d831792e7',\n",
       "  'timestamp': 1548885796.076521},\n",
       " {'id': 3,\n",
       "  'proof': 33551,\n",
       "  'previous_hash': 'ab72690a82c0264a6aa3d2567bd0e60ef9ec2095c9b2e0dd4620734eacf72c52',\n",
       "  'timestamp': 1548887620.055434},\n",
       " {'id': 4,\n",
       "  'proof': 19205,\n",
       "  'previous_hash': '134d1a98a3af7b3f65689f588e010051ce9ad04feabf181765b69ce1e471095a',\n",
       "  'timestamp': 1548887620.055434},\n",
       " {'id': 5,\n",
       "  'proof': 173497,\n",
       "  'previous_hash': '0e0f498199eaa56bbe86826f036a98dba5ce10627ead4ca4d48d78923617cac4',\n",
       "  'timestamp': 1548887620.055434},\n",
       " {'id': 6,\n",
       "  'proof': 56796,\n",
       "  'previous_hash': 'c1924dc1e19e60e1ed8083024f0dd85c8618c3de3a0ed2760df3a82d0db6bc5a',\n",
       "  'timestamp': 1548887620.055434}]"
      ]
     },
     "execution_count": 7,
     "metadata": {},
     "output_type": "execute_result"
    }
   ],
   "source": [
    "from blockchain_app.blockchain import Blockchain\n",
    "blockchain = Blockchain()\n",
    "blockchain.chain\n",
    "    \n",
    "    "
   ]
  },
  {
   "cell_type": "code",
   "execution_count": 8,
   "metadata": {},
   "outputs": [],
   "source": [
    "full_chain = []\n",
    "for b in blockchain.chain:\n",
    "    b['transactions'] = list(Transaction.objects.filter(block__id=b['id']).values())\n",
    "    full_chain.append(b)"
   ]
  },
  {
   "cell_type": "code",
   "execution_count": 9,
   "metadata": {},
   "outputs": [
    {
     "data": {
      "text/plain": [
       "[{'id': 1,\n",
       "  'proof': 100,\n",
       "  'previous_hash': '1',\n",
       "  'timestamp': 1548884810.844964,\n",
       "  'transactions': []},\n",
       " {'id': 2,\n",
       "  'proof': 71209,\n",
       "  'previous_hash': '1d45cf7124b8eaf4f996dd76768e1491d576646d861232486766c63d831792e7',\n",
       "  'timestamp': 1548885796.076521,\n",
       "  'transactions': [{'id': 1,\n",
       "    'block_id': 2,\n",
       "    'sender': '0',\n",
       "    'recipient': '0ca8e7c269d94acfb07086fe0f38e418',\n",
       "    'amount': Decimal('1.0000000000'),\n",
       "    'timestamp': 1548885796.077468}]},\n",
       " {'id': 3,\n",
       "  'proof': 33551,\n",
       "  'previous_hash': 'ab72690a82c0264a6aa3d2567bd0e60ef9ec2095c9b2e0dd4620734eacf72c52',\n",
       "  'timestamp': 1548887620.055434,\n",
       "  'transactions': [{'id': 2,\n",
       "    'block_id': 3,\n",
       "    'sender': '0ca8e7c269d94acfb07086fe0f38e418',\n",
       "    'recipient': 'some-other-address',\n",
       "    'amount': Decimal('1.0000000000'),\n",
       "    'timestamp': 1548887583.567165},\n",
       "   {'id': 3,\n",
       "    'block_id': 3,\n",
       "    'sender': '0',\n",
       "    'recipient': '02a12f71373746fb9e3c269e1b2d33b3',\n",
       "    'amount': Decimal('1.0000000000'),\n",
       "    'timestamp': 1548887620.056324}]},\n",
       " {'id': 4,\n",
       "  'proof': 19205,\n",
       "  'previous_hash': '134d1a98a3af7b3f65689f588e010051ce9ad04feabf181765b69ce1e471095a',\n",
       "  'timestamp': 1548887620.055434,\n",
       "  'transactions': [{'id': 4,\n",
       "    'block_id': 4,\n",
       "    'sender': '0',\n",
       "    'recipient': '6b271e15ab5e46a0a9a393f84c00ef65',\n",
       "    'amount': Decimal('1.0000000000'),\n",
       "    'timestamp': 1548887620.056324}]},\n",
       " {'id': 5,\n",
       "  'proof': 173497,\n",
       "  'previous_hash': '0e0f498199eaa56bbe86826f036a98dba5ce10627ead4ca4d48d78923617cac4',\n",
       "  'timestamp': 1548887620.055434,\n",
       "  'transactions': [{'id': 5,\n",
       "    'block_id': 5,\n",
       "    'sender': '0',\n",
       "    'recipient': 'e103cf10a4c84e6f849ec2b88062f819',\n",
       "    'amount': Decimal('1.0000000000'),\n",
       "    'timestamp': 1548887620.056324}]},\n",
       " {'id': 6,\n",
       "  'proof': 56796,\n",
       "  'previous_hash': 'c1924dc1e19e60e1ed8083024f0dd85c8618c3de3a0ed2760df3a82d0db6bc5a',\n",
       "  'timestamp': 1548887620.055434,\n",
       "  'transactions': [{'id': 6,\n",
       "    'block_id': 6,\n",
       "    'sender': 'e103cf10a4c84e6f849ec2b88062f819',\n",
       "    'recipient': '0ca8e7c269d94acfb07086fe0f38e418',\n",
       "    'amount': Decimal('2.0000000000'),\n",
       "    'timestamp': 1548887620.056324},\n",
       "   {'id': 7,\n",
       "    'block_id': 6,\n",
       "    'sender': '0',\n",
       "    'recipient': '46e643fa2914498d9fdf3086d08e3ca3',\n",
       "    'amount': Decimal('1.0000000000'),\n",
       "    'timestamp': 1548887620.056324}]}]"
      ]
     },
     "execution_count": 9,
     "metadata": {},
     "output_type": "execute_result"
    }
   ],
   "source": [
    "full_chain"
   ]
  },
  {
   "cell_type": "code",
   "execution_count": null,
   "metadata": {},
   "outputs": [],
   "source": []
  }
 ],
 "metadata": {
  "kernelspec": {
   "display_name": "Python 3",
   "language": "python",
   "name": "python3"
  },
  "language_info": {
   "codemirror_mode": {
    "name": "ipython",
    "version": 3
   },
   "file_extension": ".py",
   "mimetype": "text/x-python",
   "name": "python",
   "nbconvert_exporter": "python",
   "pygments_lexer": "ipython3",
   "version": "3.7.0"
  }
 },
 "nbformat": 4,
 "nbformat_minor": 2
}
